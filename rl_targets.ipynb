{
 "cells": [
  {
   "cell_type": "code",
   "execution_count": 1,
   "metadata": {},
   "outputs": [],
   "source": [
    "import gymnasium as gym\n",
    "import numpy as np\n",
    "from skimage import draw\n",
    "import math\n",
    "\n",
    "from typing import Optional\n",
    "\n",
    "import os\n",
    "\n",
    "import torch\n",
    "from torch import nn\n",
    "import torch.nn.functional as F\n",
    "import gymnasium as gym\n",
    "import numpy as np\n",
    "import matplotlib.pyplot as plt"
   ]
  },
  {
   "cell_type": "code",
   "execution_count": 2,
   "metadata": {},
   "outputs": [],
   "source": [
    "def add_target(x, y, radius, num_rings, data):\n",
    "    for i, r in zip(range(num_rings), reversed(range(num_rings))):\n",
    "        ring_size = (r+1) * (radius/num_rings)\n",
    "        if (i % 2) != 0:\n",
    "            ring_color = (1, 1, 1)\n",
    "        else:\n",
    "            ring_color = (1, 0, 0)\n",
    "        rr, cc = draw.disk((x, y), radius=ring_size, shape=data.shape)\n",
    "        data[rr, cc, :] = ring_color\n",
    "    return data\n",
    "\n",
    "def get_new_target_data(x_dim, y_dim, min_radius, max_radius, min_rings, max_rings):\n",
    "    radius = np.random.uniform(min_radius, max_radius)\n",
    "        \n",
    "    num_rings = np.random.uniform(min_rings, max_rings)\n",
    "\n",
    "    min_x = radius\n",
    "    max_x = x_dim - radius\n",
    "    min_y = radius\n",
    "    max_y = y_dim - radius\n",
    "    x = np.random.uniform(min_x, max_x)\n",
    "    y = np.random.uniform(min_y, max_y)\n",
    "    \n",
    "    return x, y, num_rings, radius\n",
    "\n",
    "def circle_intersection(x1, y1, r1, x2, y2, r2):\n",
    "  \n",
    "    dist_centers = math.sqrt((x2-x1)**2 + (y2-y1)**2)\n",
    "    radius_sum = r1 + r2\n",
    "    \n",
    "    if dist_centers < radius_sum:\n",
    "        return True\n",
    "    return False\n",
    "\n",
    "def create_scene(x_dim = 1000, y_dim = 1000, \n",
    "                 num_targets=5, min_radius=50, max_radius=100, \n",
    "                 min_rings=5, max_rings=5):\n",
    "    \"\"\"\n",
    "    Creates multiple new targets of varying radius, number of rings, and color\n",
    "    \n",
    "    Parameters:\n",
    "    num_targets - the number of targets\n",
    "    min_radius - the minimum radius of a target\n",
    "    max_radius - the maximum radius of a target\n",
    "    min_rings - the minimum number of rings on a target\n",
    "    max_rings - the maximum number of rings on a target\n",
    "    \"\"\"\n",
    "    scene_arr = np.zeros((x_dim, y_dim, 3)) + 1\n",
    "    targets_metadata = []\n",
    "    \n",
    "    for n in range(num_targets):\n",
    "        x, y, num_rings, radius = get_new_target_data(x_dim, y_dim, min_radius, max_radius, min_rings, max_rings)\n",
    "        \n",
    "        # Check for overlap with existing targets and redo target if it there is overlap        \n",
    "        while True:\n",
    "            is_overlapping = False\n",
    "            \n",
    "            # Check for overlap with existing targets\n",
    "            for t in targets_metadata:\n",
    "                targets_intersect = circle_intersection(t[0], t[1], t[2], x, y, radius)\n",
    "                if targets_intersect:\n",
    "                    is_overlapping = True\n",
    "            \n",
    "            # If there is overlap, redo the target and check again. If not, break and continue with rest of target creation\n",
    "            if is_overlapping:\n",
    "                x, y, num_rings, radius = get_new_target_data(x_dim, y_dim, min_radius, max_radius, min_rings, max_rings)    \n",
    "            else:\n",
    "                break\n",
    "                \n",
    "        scene_arr = add_target(x, y, radius=radius, num_rings=int(num_rings), data=scene_arr)\n",
    "        targets_metadata.append((x, y, radius))\n",
    "        \n",
    "    return scene_arr, targets_metadata\n",
    "\n",
    "def delete_target(x, y, radius, data):\n",
    "    rr, cc = draw.disk((x, y), radius=radius, shape=data.shape)\n",
    "    data[rr, cc, :] = (1, 1, 1)\n",
    "    return data\n",
    "\n",
    "def check_hit(action, metadata, data):\n",
    "    for i, m in enumerate(metadata):\n",
    "        x, y, radius = m\n",
    "        dist = math.sqrt((action[0] - x)**2 + (action[1] - y)**2)\n",
    "        if dist < radius:\n",
    "            reward = (1 - (dist/radius))*10\n",
    "            biggest_target_idx = np.argmax([m[2] for m in metadata])\n",
    "            if i == biggest_target_idx:\n",
    "                reward *= 3\n",
    "            data = delete_target(x, y, radius, data)\n",
    "            metadata.remove(m)\n",
    "            return reward, metadata, data\n",
    "    return -1, metadata, data\n",
    "\n",
    "# data, metadata = create_scene()\n",
    "\n",
    "# action = (194, 241)\n",
    "\n",
    "# check_hit(action, metadata, data)"
   ]
  },
  {
   "cell_type": "code",
   "execution_count": 3,
   "metadata": {},
   "outputs": [],
   "source": [
    "class Targets(gym.Env):\n",
    "    def __init__(self, x_dim = 1000, y_dim = 1000, \n",
    "                 num_targets=5, min_radius=50, max_radius=100, max_ep_actions=100):\n",
    "        self.num_targets = num_targets\n",
    "        self.x_dim = x_dim\n",
    "        self.y_dim = y_dim\n",
    "        self.min_radius = min_radius\n",
    "        self.max_radius = max_radius\n",
    "        self.max_ep_actions = num_targets + 1\n",
    "        \n",
    "        self.observation_space = gym.spaces.Dict(\n",
    "            {\n",
    "                \"x_pos\": gym.spaces.Box(low=0, high=x_dim, shape=(num_targets, 1), dtype=np.float32),\n",
    "                \"y_pos\": gym.spaces.Box(low=0, high=y_dim, shape=(num_targets, 1), dtype=np.float32),\n",
    "                \"sizes\": gym.spaces.Box(low=min_radius, high=max_radius, shape=(num_targets, 1), dtype=np.float32),\n",
    "            }\n",
    "        )\n",
    "\n",
    "        self.action_space = gym.spaces.Box(low=0, high=1000, shape=(2,), dtype=np.float32)\n",
    "        \n",
    "        self.num_actions = 0\n",
    "        \n",
    "    def get_max_reward(self):\n",
    "        return self.num_targets * 30\n",
    "        \n",
    "    def reset(self, seed: Optional[int] = None):\n",
    "        super().reset(seed=seed)\n",
    "        self.num_actions = 0\n",
    "        np.random.seed(seed)\n",
    "        \n",
    "        self.data, self.metadata = create_scene(x_dim=self.x_dim, \n",
    "                                                num_targets=self.num_targets, \n",
    "                                                y_dim=self.y_dim, \n",
    "                                                min_radius=self.min_radius, \n",
    "                                                max_radius=self.max_radius)\n",
    "        \n",
    "        return self._get_obs()\n",
    "    \n",
    "    def step(self, action):\n",
    "        reward, self.metadata, self.data = check_hit(action, self.metadata, self.data)\n",
    "        self.num_actions += 1\n",
    "        truncated = False\n",
    "        info = self.data\n",
    "        if (len(self.metadata) == 0) or self.num_actions >= self.max_ep_actions:\n",
    "            terminated = True\n",
    "        else:\n",
    "            terminated = False\n",
    "        observation = self._get_obs()\n",
    "        return observation, reward, terminated, truncated, info\n",
    "        \n",
    "    def _get_obs(self):\n",
    "        return torch.tensor(\n",
    "            self.data.mean(axis=2, keepdims=True), dtype=torch.float32\n",
    "        ).expand(1, -1, -1, -1).permute(0, 3, 1, 2)"
   ]
  },
  {
   "cell_type": "code",
   "execution_count": 4,
   "metadata": {},
   "outputs": [],
   "source": [
    "temp_targets = Targets()\n",
    "temp_data = temp_targets.reset()"
   ]
  },
  {
   "cell_type": "code",
   "execution_count": 5,
   "metadata": {},
   "outputs": [
    {
     "data": {
      "text/plain": [
       "torch.Size([1, 1, 1000, 1000])"
      ]
     },
     "execution_count": 5,
     "metadata": {},
     "output_type": "execute_result"
    }
   ],
   "source": [
    "temp_data.shape"
   ]
  },
  {
   "cell_type": "code",
   "execution_count": 6,
   "metadata": {},
   "outputs": [],
   "source": [
    "temp_data = temp_data[0].permute(1, 2, 0)"
   ]
  },
  {
   "cell_type": "code",
   "execution_count": 7,
   "metadata": {},
   "outputs": [
    {
     "data": {
      "text/plain": [
       "<matplotlib.image.AxesImage at 0x73b85f1234a0>"
      ]
     },
     "execution_count": 7,
     "metadata": {},
     "output_type": "execute_result"
    },
    {
     "data": {
      "image/png": "[encoded data removed]",
      "text/plain": [
       "<Figure size 640x480 with 1 Axes>"
      ]
     },
     "metadata": {},
     "output_type": "display_data"
    }
   ],
   "source": [
    "plt.imshow(temp_data, cmap='gray')"
   ]
  },
  {
   "cell_type": "markdown",
   "metadata": {},
   "source": [
    "References for coding DDPG agent\n",
    "- https://keras.io/examples/rl/ddpg_pendulum/\n",
    "- https://arxiv.org/pdf/1509.02971\n",
    "- https://towardsdatascience.com/deep-deterministic-policy-gradients-explained-2d94655a9b7b"
   ]
  },
  {
   "cell_type": "code",
   "execution_count": 8,
   "metadata": {},
   "outputs": [],
   "source": [
    "class Critic(nn.Module):\n",
    "    def __init__(self, action_dim):\n",
    "        super(Critic, self).__init__()\n",
    "        \n",
    "        self.state_conv1 = nn.Conv2d(1, 16, kernel_size=3, stride=2, padding=1)\n",
    "        self.state_conv2 = nn.Conv2d(16, 32, kernel_size=3, stride=2, padding=1)\n",
    "        self.state_pool = nn.MaxPool2d(kernel_size=3, stride=2)\n",
    "        self.state_flatten1 = nn.Flatten()\n",
    "        self.state_linear1 = nn.Linear(800, 64)\n",
    "\n",
    "        self.action_linear1 = nn.Linear(action_dim, 64)\n",
    "        \n",
    "        self.linear1 = nn.Linear(128, 256)\n",
    "        \n",
    "        self.out = nn.Linear(256, action_dim)\n",
    "\n",
    "    def forward(self, state, action):\n",
    "        state_x = F.relu(self.state_conv1(state))\n",
    "        state_x = self.state_pool(state_x)\n",
    "        state_x = F.relu(self.state_conv2(state_x))\n",
    "        state_x = self.state_pool(state_x)\n",
    "        state_x = self.state_flatten1(state_x)\n",
    "        state_x = F.relu(self.state_linear1(state_x))\n",
    "        \n",
    "        action_x = F.relu(self.action_linear1(action))\n",
    "        \n",
    "        x = torch.cat([state_x, action_x], dim=1)\n",
    "        x = F.relu(self.linear1(x))\n",
    "        \n",
    "        x = self.out(x)\n",
    "\n",
    "        return x\n",
    "    \n",
    "class Actor(nn.Module):\n",
    "    def __init__(self, action_dim):\n",
    "        super(Actor, self).__init__()\n",
    "        \n",
    "        self.conv1 = nn.Conv2d(1, 16, kernel_size=3, stride=2, padding=1)\n",
    "        self.conv2 = nn.Conv2d(16, 32, kernel_size=3, stride=2, padding=1)\n",
    "        self.pool1 = nn.MaxPool2d(kernel_size=3, stride=2)\n",
    "        self.flatten1 = nn.Flatten()\n",
    "        self.linear1 = nn.Linear(800, 64)\n",
    "        \n",
    "        self.out = nn.Linear(64, action_dim)\n",
    "        self.out.weight.data = nn.init.uniform_(self.out.weight, -0.003, 0.003)\n",
    "        \n",
    "    def forward(self, state):\n",
    "        x = F.relu(self.conv1(state))\n",
    "        x = self.pool1(x)\n",
    "        x = F.relu(self.conv2(x))\n",
    "        x = self.pool1(x)\n",
    "        x = self.flatten1(x)\n",
    "        x = F.relu(self.linear1(x))\n",
    "        x = self.out(x)\n",
    "        x = (F.tanh(x) + 1) * 50\n",
    "        \n",
    "        return x"
   ]
  },
  {
   "cell_type": "code",
   "execution_count": 9,
   "metadata": {},
   "outputs": [
    {
     "data": {
      "text/plain": [
       "tensor([[47.7332, 51.9057]], grad_fn=<MulBackward0>)"
      ]
     },
     "execution_count": 9,
     "metadata": {},
     "output_type": "execute_result"
    }
   ],
   "source": [
    "temp_actor = Actor(2)\n",
    "temp_actor.forward(torch.rand(1, 1, 100, 100))"
   ]
  },
  {
   "cell_type": "code",
   "execution_count": 10,
   "metadata": {},
   "outputs": [
    {
     "data": {
      "text/plain": [
       "tensor([[0.0066, 0.1101]], grad_fn=<AddmmBackward0>)"
      ]
     },
     "execution_count": 10,
     "metadata": {},
     "output_type": "execute_result"
    }
   ],
   "source": [
    "temp_critic = Critic(2)\n",
    "temp_critic.forward(torch.rand(1, 1, 100, 100), torch.rand(1, 2))"
   ]
  },
  {
   "cell_type": "code",
   "execution_count": 11,
   "metadata": {},
   "outputs": [],
   "source": [
    "def policy(state, actor_model, decay_rate, ep, action_lower_bound, action_upper_bound):\n",
    "    actions = actor_model(state)\n",
    "    \n",
    "    noise_decay = math.exp(-decay_rate * ep)\n",
    "    noise = torch.tensor(np.random.uniform(action_lower_bound*0.5, action_upper_bound*0.5, actions.shape))\n",
    "    actions += (noise * noise_decay)\n",
    "    \n",
    "    bounded_action = torch.clamp(actions, action_lower_bound, action_upper_bound)\n",
    "    \n",
    "    return bounded_action[0]"
   ]
  },
  {
   "cell_type": "code",
   "execution_count": 12,
   "metadata": {},
   "outputs": [
    {
     "data": {
      "text/plain": [
       "tensor([54.1620, 56.7118], grad_fn=<SelectBackward0>)"
      ]
     },
     "execution_count": 12,
     "metadata": {},
     "output_type": "execute_result"
    }
   ],
   "source": [
    "temp_actor = Actor(2)\n",
    "policy(torch.rand(1, 1, 100, 100), temp_actor, 0.05, 1, 0, 100)"
   ]
  },
  {
   "cell_type": "code",
   "execution_count": 13,
   "metadata": {},
   "outputs": [],
   "source": [
    "class Buffer:\n",
    "    def __init__(self, state_dim, num_actions, buffer_capacity=100000, batch_size=64):\n",
    "        # Number of \"experiences\" to store at max\n",
    "        self.buffer_capacity = buffer_capacity\n",
    "        # Num of tuples to train on.\n",
    "        self.batch_size = batch_size\n",
    "\n",
    "        # Its tells num of times record() was called.\n",
    "        self.buffer_counter = 0\n",
    "\n",
    "        state_buffer_dim = [self.buffer_capacity]\n",
    "        state_buffer_dim.extend(list(state_dim))\n",
    "        \n",
    "        self.state_buffer = torch.zeros(state_buffer_dim)\n",
    "        self.action_buffer = torch.zeros((self.buffer_capacity, num_actions))\n",
    "        self.reward_buffer = torch.zeros((self.buffer_capacity, 1))\n",
    "        self.next_state_buffer = torch.zeros(state_buffer_dim)\n",
    "\n",
    "    # Takes (s,a,r,s') observation tuple as input\n",
    "    def record(self, obs_tuple):\n",
    "        # Set index to zero if buffer_capacity is exceeded,\n",
    "        # replacing old records\n",
    "        index = self.buffer_counter % self.buffer_capacity\n",
    "\n",
    "        self.state_buffer[index] = obs_tuple[0]\n",
    "        self.action_buffer[index] = obs_tuple[1]\n",
    "        self.reward_buffer[index] = obs_tuple[2]\n",
    "        self.next_state_buffer[index] = obs_tuple[3]\n",
    "\n",
    "        self.buffer_counter += 1\n",
    "        \n",
    "    def sample(self, size):\n",
    "        record_range = min(self.buffer_counter, self.buffer_capacity)\n",
    "        batch = np.random.choice(record_range, size)\n",
    "        \n",
    "        states = self.state_buffer[batch]\n",
    "        actions = self.action_buffer[batch]\n",
    "        rewards = self.reward_buffer[batch]\n",
    "        next_states = self.next_state_buffer[batch]\n",
    "        \n",
    "        return states, actions, rewards, next_states\n",
    "    \n",
    "def copy_network(src, target):\n",
    "    for src_param, target_param in zip(src.parameters(), target.parameters()):\n",
    "        target_param.data.copy_(src_param.data)\n",
    "\n",
    "def update_target(src, target, tau):\n",
    "    for src_param, target_param in zip(src.parameters(), target.parameters()):\n",
    "        target_param.data.copy_(tau * src_param.data + (1.0 - tau) * target_param.data)"
   ]
  },
  {
   "cell_type": "code",
   "execution_count": 14,
   "metadata": {},
   "outputs": [
    {
     "name": "stdout",
     "output_type": "stream",
     "text": [
      "Episode 0, Mean Reward of Last 50 Episodes: -2.0, noise_decay: 1.0\n",
      "Episode 50, Mean Reward of Last 50 Episodes: -1.5618615296349885, noise_decay: 0.951229424500714\n",
      "Episode 100, Mean Reward of Last 50 Episodes: -2.0, noise_decay: 0.9048374180359595\n",
      "Episode 150, Mean Reward of Last 50 Episodes: -2.0, noise_decay: 0.8607079764250578\n",
      "Episode 200, Mean Reward of Last 50 Episodes: -2.0, noise_decay: 0.8187307530779818\n",
      "Episode 250, Mean Reward of Last 50 Episodes: -1.2758294144748006, noise_decay: 0.7788007830714049\n",
      "Episode 300, Mean Reward of Last 50 Episodes: -0.865180518045112, noise_decay: 0.7408182206817179\n",
      "Episode 350, Mean Reward of Last 50 Episodes: -1.7177255666052138, noise_decay: 0.7046880897187134\n",
      "Episode 400, Mean Reward of Last 50 Episodes: -0.8402348550216132, noise_decay: 0.6703200460356393\n",
      "Episode 450, Mean Reward of Last 50 Episodes: -1.249999499136563, noise_decay: 0.6376281516217733\n",
      "Episode 500, Mean Reward of Last 50 Episodes: -1.4693286795010574, noise_decay: 0.6065306597126334\n",
      "Episode 550, Mean Reward of Last 50 Episodes: -1.3334083401022467, noise_decay: 0.5769498103804866\n",
      "Episode 600, Mean Reward of Last 50 Episodes: -1.2256830777039798, noise_decay: 0.5488116360940264\n",
      "Episode 650, Mean Reward of Last 50 Episodes: -0.898787450210436, noise_decay: 0.522045776761016\n",
      "Episode 700, Mean Reward of Last 50 Episodes: -1.2851618771963211, noise_decay: 0.49658530379140947\n",
      "Episode 750, Mean Reward of Last 50 Episodes: -1.54214791471156, noise_decay: 0.4723665527410147\n",
      "Episode 800, Mean Reward of Last 50 Episodes: -1.8224603873505942, noise_decay: 0.44932896411722156\n"
     ]
    },
    {
     "ename": "KeyboardInterrupt",
     "evalue": "",
     "output_type": "error",
     "traceback": [
      "\u001b[0;31m---------------------------------------------------------------------------\u001b[0m",
      "\u001b[0;31mKeyboardInterrupt\u001b[0m                         Traceback (most recent call last)",
      "Cell \u001b[0;32mIn[14], line 57\u001b[0m\n\u001b[1;32m     55\u001b[0m critic_loss \u001b[38;5;241m=\u001b[39m critic_criterion(q_values, q_prime_values)\n\u001b[1;32m     56\u001b[0m critic_optim\u001b[38;5;241m.\u001b[39mzero_grad()\n\u001b[0;32m---> 57\u001b[0m \u001b[43mcritic_loss\u001b[49m\u001b[38;5;241;43m.\u001b[39;49m\u001b[43mbackward\u001b[49m\u001b[43m(\u001b[49m\u001b[43m)\u001b[49m\n\u001b[1;32m     58\u001b[0m critic_optim\u001b[38;5;241m.\u001b[39mstep()\n\u001b[1;32m     60\u001b[0m q_values \u001b[38;5;241m=\u001b[39m critic\u001b[38;5;241m.\u001b[39mforward(buffer_states, actor\u001b[38;5;241m.\u001b[39mforward(buffer_states))\n",
      "File \u001b[0;32m~/Projects/rl_targets/venv/lib/python3.12/site-packages/torch/_tensor.py:581\u001b[0m, in \u001b[0;36mTensor.backward\u001b[0;34m(self, gradient, retain_graph, create_graph, inputs)\u001b[0m\n\u001b[1;32m    571\u001b[0m \u001b[38;5;28;01mif\u001b[39;00m has_torch_function_unary(\u001b[38;5;28mself\u001b[39m):\n\u001b[1;32m    572\u001b[0m     \u001b[38;5;28;01mreturn\u001b[39;00m handle_torch_function(\n\u001b[1;32m    573\u001b[0m         Tensor\u001b[38;5;241m.\u001b[39mbackward,\n\u001b[1;32m    574\u001b[0m         (\u001b[38;5;28mself\u001b[39m,),\n\u001b[0;32m   (...)\u001b[0m\n\u001b[1;32m    579\u001b[0m         inputs\u001b[38;5;241m=\u001b[39minputs,\n\u001b[1;32m    580\u001b[0m     )\n\u001b[0;32m--> 581\u001b[0m \u001b[43mtorch\u001b[49m\u001b[38;5;241;43m.\u001b[39;49m\u001b[43mautograd\u001b[49m\u001b[38;5;241;43m.\u001b[39;49m\u001b[43mbackward\u001b[49m\u001b[43m(\u001b[49m\n\u001b[1;32m    582\u001b[0m \u001b[43m    \u001b[49m\u001b[38;5;28;43mself\u001b[39;49m\u001b[43m,\u001b[49m\u001b[43m \u001b[49m\u001b[43mgradient\u001b[49m\u001b[43m,\u001b[49m\u001b[43m \u001b[49m\u001b[43mretain_graph\u001b[49m\u001b[43m,\u001b[49m\u001b[43m \u001b[49m\u001b[43mcreate_graph\u001b[49m\u001b[43m,\u001b[49m\u001b[43m \u001b[49m\u001b[43minputs\u001b[49m\u001b[38;5;241;43m=\u001b[39;49m\u001b[43minputs\u001b[49m\n\u001b[1;32m    583\u001b[0m \u001b[43m\u001b[49m\u001b[43m)\u001b[49m\n",
      "File \u001b[0;32m~/Projects/rl_targets/venv/lib/python3.12/site-packages/torch/autograd/__init__.py:347\u001b[0m, in \u001b[0;36mbackward\u001b[0;34m(tensors, grad_tensors, retain_graph, create_graph, grad_variables, inputs)\u001b[0m\n\u001b[1;32m    342\u001b[0m     retain_graph \u001b[38;5;241m=\u001b[39m create_graph\n\u001b[1;32m    344\u001b[0m \u001b[38;5;66;03m# The reason we repeat the same comment below is that\u001b[39;00m\n\u001b[1;32m    345\u001b[0m \u001b[38;5;66;03m# some Python versions print out the first line of a multi-line function\u001b[39;00m\n\u001b[1;32m    346\u001b[0m \u001b[38;5;66;03m# calls in the traceback and some print out the last line\u001b[39;00m\n\u001b[0;32m--> 347\u001b[0m \u001b[43m_engine_run_backward\u001b[49m\u001b[43m(\u001b[49m\n\u001b[1;32m    348\u001b[0m \u001b[43m    \u001b[49m\u001b[43mtensors\u001b[49m\u001b[43m,\u001b[49m\n\u001b[1;32m    349\u001b[0m \u001b[43m    \u001b[49m\u001b[43mgrad_tensors_\u001b[49m\u001b[43m,\u001b[49m\n\u001b[1;32m    350\u001b[0m \u001b[43m    \u001b[49m\u001b[43mretain_graph\u001b[49m\u001b[43m,\u001b[49m\n\u001b[1;32m    351\u001b[0m \u001b[43m    \u001b[49m\u001b[43mcreate_graph\u001b[49m\u001b[43m,\u001b[49m\n\u001b[1;32m    352\u001b[0m \u001b[43m    \u001b[49m\u001b[43minputs\u001b[49m\u001b[43m,\u001b[49m\n\u001b[1;32m    353\u001b[0m \u001b[43m    \u001b[49m\u001b[43mallow_unreachable\u001b[49m\u001b[38;5;241;43m=\u001b[39;49m\u001b[38;5;28;43;01mTrue\u001b[39;49;00m\u001b[43m,\u001b[49m\n\u001b[1;32m    354\u001b[0m \u001b[43m    \u001b[49m\u001b[43maccumulate_grad\u001b[49m\u001b[38;5;241;43m=\u001b[39;49m\u001b[38;5;28;43;01mTrue\u001b[39;49;00m\u001b[43m,\u001b[49m\n\u001b[1;32m    355\u001b[0m \u001b[43m\u001b[49m\u001b[43m)\u001b[49m\n",
      "File \u001b[0;32m~/Projects/rl_targets/venv/lib/python3.12/site-packages/torch/autograd/graph.py:825\u001b[0m, in \u001b[0;36m_engine_run_backward\u001b[0;34m(t_outputs, *args, **kwargs)\u001b[0m\n\u001b[1;32m    823\u001b[0m     unregister_hooks \u001b[38;5;241m=\u001b[39m _register_logging_hooks_on_whole_graph(t_outputs)\n\u001b[1;32m    824\u001b[0m \u001b[38;5;28;01mtry\u001b[39;00m:\n\u001b[0;32m--> 825\u001b[0m     \u001b[38;5;28;01mreturn\u001b[39;00m \u001b[43mVariable\u001b[49m\u001b[38;5;241;43m.\u001b[39;49m\u001b[43m_execution_engine\u001b[49m\u001b[38;5;241;43m.\u001b[39;49m\u001b[43mrun_backward\u001b[49m\u001b[43m(\u001b[49m\u001b[43m  \u001b[49m\u001b[38;5;66;43;03m# Calls into the C++ engine to run the backward pass\u001b[39;49;00m\n\u001b[1;32m    826\u001b[0m \u001b[43m        \u001b[49m\u001b[43mt_outputs\u001b[49m\u001b[43m,\u001b[49m\u001b[43m \u001b[49m\u001b[38;5;241;43m*\u001b[39;49m\u001b[43margs\u001b[49m\u001b[43m,\u001b[49m\u001b[43m \u001b[49m\u001b[38;5;241;43m*\u001b[39;49m\u001b[38;5;241;43m*\u001b[39;49m\u001b[43mkwargs\u001b[49m\n\u001b[1;32m    827\u001b[0m \u001b[43m    \u001b[49m\u001b[43m)\u001b[49m  \u001b[38;5;66;03m# Calls into the C++ engine to run the backward pass\u001b[39;00m\n\u001b[1;32m    828\u001b[0m \u001b[38;5;28;01mfinally\u001b[39;00m:\n\u001b[1;32m    829\u001b[0m     \u001b[38;5;28;01mif\u001b[39;00m attach_logging_hooks:\n",
      "\u001b[0;31mKeyboardInterrupt\u001b[0m: "
     ]
    }
   ],
   "source": [
    "# if torch.cuda.is_available():\n",
    "#     device = torch.device(\"cuda\")\n",
    "# else:\n",
    "#     device = torch.device(\"cpu\")\n",
    "\n",
    "env_dim = 100\n",
    "targets_env = Targets(x_dim=env_dim, y_dim=env_dim, num_targets=1, min_radius=10, max_radius=20, max_ep_actions=200)\n",
    "\n",
    "state_dim = (1, env_dim, env_dim)\n",
    "num_actions = 2\n",
    "\n",
    "actor_lr = 0.001\n",
    "actor = Actor(num_actions)\n",
    "actor_optim = torch.optim.Adam(actor.parameters(), lr=actor_lr)\n",
    "\n",
    "target_actor = Actor(num_actions)\n",
    "copy_network(actor, target_actor)\n",
    "\n",
    "critic_lr = 0.002\n",
    "critic = Critic(num_actions)\n",
    "critic_optim = torch.optim.Adam(critic.parameters(), lr=critic_lr)\n",
    "critic_criterion = nn.MSELoss()\n",
    "\n",
    "target_critic = Critic(num_actions)\n",
    "copy_network(critic, target_critic)\n",
    "\n",
    "buffer = Buffer(state_dim, num_actions, buffer_capacity=10000)\n",
    "\n",
    "num_episodes = 5000\n",
    "batch_size = 64\n",
    "gamma = 0.99\n",
    "tau = 0.01\n",
    "noise_decay_rate=1e-3\n",
    "\n",
    "episode_rewards = []\n",
    "for ep in range(num_episodes):\n",
    "    state = targets_env.reset()\n",
    "    episode_reward = 0\n",
    "    \n",
    "    while True:\n",
    "        action = policy(state, actor, noise_decay_rate, ep+1, 0, env_dim)\n",
    "        next_state, reward, terminated, truncated, info = targets_env.step(action.detach().numpy())\n",
    "        buffer.record((state, action, reward, next_state))\n",
    "        \n",
    "        if buffer.buffer_counter > batch_size:\n",
    "            buffer_states, buffer_actions, buffer_rewards, buffer_next_states = buffer.sample(batch_size)\n",
    "            \n",
    "            target_actions = target_actor.forward(buffer_next_states)\n",
    "            target_q_values = target_critic.forward(buffer_next_states, target_actions)\n",
    "            \n",
    "            q_prime_values = buffer_rewards + gamma * target_q_values\n",
    "            \n",
    "            q_values = critic.forward(buffer_states, buffer_actions.detach())\n",
    "            \n",
    "            critic_loss = critic_criterion(q_values, q_prime_values)\n",
    "            critic_optim.zero_grad()\n",
    "            critic_loss.backward()\n",
    "            critic_optim.step()\n",
    "            \n",
    "            q_values = critic.forward(buffer_states, actor.forward(buffer_states))\n",
    "            actor_loss = -q_values.mean()\n",
    "            actor_optim.zero_grad()\n",
    "            actor_loss.backward()\n",
    "            actor_optim.step()\n",
    "            \n",
    "            for src_param, target_param in zip(actor.parameters(), target_actor.parameters()):\n",
    "                target_param.data.copy_(tau * src_param.data + (1.0 - tau) * target_param.data)\n",
    "            for src_param, target_param in zip(critic.parameters(), target_critic.parameters()):\n",
    "                target_param.data.copy_(tau * src_param.data + (1.0 - tau) * target_param.data)\n",
    "            \n",
    "        state = next_state\n",
    "        episode_reward += reward\n",
    "        \n",
    "        if terminated:\n",
    "            break\n",
    "        \n",
    "    episode_rewards.append(episode_reward)\n",
    "    if ep % 50 == 0:\n",
    "        print(f\"Episode {ep}, Mean Reward of Last 50 Episodes: {np.mean(episode_rewards[-50:])}, noise_decay: {math.exp(-noise_decay_rate * ep)}\")"
   ]
  },
  {
   "cell_type": "code",
   "execution_count": null,
   "metadata": {},
   "outputs": [
    {
     "data": {
      "text/plain": [
       "<Axes: >"
      ]
     },
     "execution_count": 25,
     "metadata": {},
     "output_type": "execute_result"
    },
    {
     "data": {
      "image/png": "[encoded data removed]",
      "text/plain": [
       "<Figure size 640x480 with 1 Axes>"
      ]
     },
     "metadata": {},
     "output_type": "display_data"
    }
   ],
   "source": [
    "import seaborn as sns\n",
    "sns.lineplot(x=list(range(len(episode_rewards))), y=episode_rewards)"
   ]
  },
  {
   "cell_type": "code",
   "execution_count": 16,
   "metadata": {},
   "outputs": [
    {
     "data": {
      "text/plain": [
       "tensor([[0., 0.]], grad_fn=<MulBackward0>)"
      ]
     },
     "execution_count": 16,
     "metadata": {},
     "output_type": "execute_result"
    }
   ],
   "source": [
    "actor.forward(targets_env._get_obs())"
   ]
  },
  {
   "cell_type": "code",
   "execution_count": null,
   "metadata": {},
   "outputs": [],
   "source": []
  }
 ],
 "metadata": {
  "kernelspec": {
   "display_name": "venv",
   "language": "python",
   "name": "python3"
  },
  "language_info": {
   "codemirror_mode": {
    "name": "ipython",
    "version": 3
   },
   "file_extension": ".py",
   "mimetype": "text/x-python",
   "name": "python",
   "nbconvert_exporter": "python",
   "pygments_lexer": "ipython3",
   "version": "3.12.3"
  }
 },
 "nbformat": 4,
 "nbformat_minor": 2
}
